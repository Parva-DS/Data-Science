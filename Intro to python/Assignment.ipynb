{
 "cells": [
  {
   "cell_type": "markdown",
   "id": "3c0965f7",
   "metadata": {},
   "source": [
    "## Python Assignment"
   ]
  },
  {
   "cell_type": "code",
   "execution_count": 2,
   "id": "b91ccdc8",
   "metadata": {},
   "outputs": [
    {
     "name": "stdout",
     "output_type": "stream",
     "text": [
      "The sum of the first 10 positive integer is : 55\n"
     ]
    }
   ],
   "source": [
    "#1. Write a python program to sum of the first n positive integers\n",
    "\n",
    "n=int(input(\"Enter number:\"))\n",
    "sum=0\n",
    "\n",
    "if n<0:\n",
    "    n=int(input(\"Please enter a positive integer:\"))\n",
    "\n",
    "for i in range(1,n+1):\n",
    "    sum+=i\n",
    "print(f\"The sum of the first {n} positive integer is : {sum}\")\n",
    "    \n"
   ]
  },
  {
   "cell_type": "code",
   "execution_count": 25,
   "id": "ba3da17e",
   "metadata": {},
   "outputs": [
    {
     "name": "stdout",
     "output_type": "stream",
     "text": [
      "I love my country. My country is the fastest growing country in the world\n",
      "Country\n",
      "Country appears 3 times in the main string\n"
     ]
    }
   ],
   "source": [
    "#2. Write a Python program to count occurrences of a substring in a string.\n",
    "\n",
    "text=str(input(\"Enter the main string:\"))\n",
    "substring=str(input(\"Enter the substring:\"))\n",
    "\n",
    "print(text)\n",
    "print(substring)\n",
    "count=text.lower().count(substring.lower())\n",
    "print(f\"{substring} appears {count} times in the main string\")"
   ]
  },
  {
   "cell_type": "code",
   "execution_count": 3,
   "id": "a83eaf2f",
   "metadata": {},
   "outputs": [
    {
     "name": "stdout",
     "output_type": "stream",
     "text": [
      "Python\n",
      "4\n"
     ]
    }
   ],
   "source": [
    "#3. Write a Python program to count the occurrences of each word in a given sentence.\n",
    "\n",
    "text=(\"Python is easy. Python is powerful. I love programming in python. Python is fun \")\n",
    "word=(input(\"Enter string:\"))\n",
    "\n",
    "count=text.lower().count(word.lower())\n",
    "print(word)\n",
    "print(count)"
   ]
  },
  {
   "cell_type": "code",
   "execution_count": 4,
   "id": "bc2d5d0c",
   "metadata": {},
   "outputs": [
    {
     "name": "stdout",
     "output_type": "stream",
     "text": [
      "Python is easy. Data science is fun \n"
     ]
    },
    {
     "data": {
      "text/plain": [
       "'Dathon is easy. Pyta science is fun'"
      ]
     },
     "execution_count": 4,
     "metadata": {},
     "output_type": "execute_result"
    }
   ],
   "source": [
    "#4. Write a Python program to get a single string from two given strings, separated by a space and swap the first two characters of each string.\n",
    "\n",
    "text1=\"Python is easy.\"\n",
    "text2=\"Data science is fun\"\n",
    "print(f\"{text1} {text2} \")\n",
    "\n",
    "new_text1=text2[0:2] + text1[2:]\n",
    "new_text1\n",
    "new_text2=text1[0:2] + text2[2:]\n",
    "new_text2\n",
    "\n",
    "text=new_text1+\" \"+ new_text2\n",
    "text"
   ]
  },
  {
   "cell_type": "code",
   "execution_count": 5,
   "id": "c7cbc326",
   "metadata": {},
   "outputs": [
    {
     "name": "stdout",
     "output_type": "stream",
     "text": [
      "Enter a string: playing\n",
      "playly\n"
     ]
    }
   ],
   "source": [
    "#5. Write a Python program to add 'ing' at the end of a given string (length should be at least 3). If the given string already ends with 'ing' then add 'ly' instead. If the string length of the given string is less than 3, leave it unchanged\n",
    "\n",
    "text=(input(\"Enter a word\"))\n",
    "\n",
    "if len(text)<3:\n",
    "    result=text\n",
    "elif text.endswith(\"ing\"):\n",
    "    result=text.replace(\"ing\",\"ly\")\n",
    "else:\n",
    "    result=text+\"ing\"\n",
    "\n",
    "print(f\"Enter a string: {text}\")\n",
    "print(result)\n"
   ]
  },
  {
   "cell_type": "code",
   "execution_count": 32,
   "id": "c9799cac",
   "metadata": {},
   "outputs": [
    {
     "name": "stdout",
     "output_type": "stream",
     "text": [
      "India's people are not good at civic sence but they are not very poor in wealth\n",
      "19\n",
      "65\n",
      "India's people are good in wealth\n"
     ]
    }
   ],
   "source": [
    "#6. Write a Python program to find the first appearance of the substring 'not' and'poor' from a given string, if 'not' follows the 'poor', replace the whole 'not'...'poor' substring with 'good'. Return the resulting string\n",
    "\n",
    "s=input(\"Enter main string:\")\n",
    "print(s)\n",
    "\n",
    "a=s.find(\"not\")\n",
    "b=s.find(\"poor\")\n",
    "\n",
    "print(a)\n",
    "print(b)\n",
    "\n",
    "if a<b:\n",
    "    result=s[:a]+\"good\"+s[b+4:]\n",
    "else:\n",
    "    result=s\n",
    "\n",
    "print(result)"
   ]
  },
  {
   "cell_type": "code",
   "execution_count": 35,
   "id": "576e2b1c",
   "metadata": {},
   "outputs": [
    {
     "name": "stdout",
     "output_type": "stream",
     "text": [
      "first number: 20\n",
      "second number: 28\n",
      "Greatest common divisor: 4\n"
     ]
    }
   ],
   "source": [
    "#7. Program to find Greatest Common Divisor of two numbers. For example, the GCD of 20 and 28 is 4 and the GCD of 98 and 56 is 14.\n",
    "\n",
    "a=int(input(\"Enter first number:\"))\n",
    "b=int(input(\"Enter second number:\"))\n",
    "print(f\"first number: {a}\")\n",
    "print(f\"second number: {b}\")\n",
    "\n",
    "num=min(a,b)\n",
    "gcd=1\n",
    "\n",
    "for i in range(1,num+1):\n",
    "    if a%i==0 and b%i==0:\n",
    "        gcd=i\n",
    "print(f\"Greatest common divisor: {gcd}\")"
   ]
  },
  {
   "cell_type": "code",
   "execution_count": 3,
   "id": "d7cbfb42",
   "metadata": {},
   "outputs": [
    {
     "name": "stdout",
     "output_type": "stream",
     "text": [
      "List contain sublist\n"
     ]
    }
   ],
   "source": [
    "#8. Write a Python program to check whether a list contains a sublist\n",
    "\n",
    "l=[1,2,3,4,5,6,7,8,9,10]\n",
    "match=False\n",
    "l1=[1,2,3,4,5]\n",
    "for i in range(len(l)-len(l1)+1):\n",
    "    if l[i:i+len(l1)] == l1:\n",
    "        match=True\n",
    "        break\n",
    "if match:\n",
    "    print(\"List contain sublist\")\n",
    "else:\n",
    "    print(\"List do not contain sublist\")\n"
   ]
  },
  {
   "cell_type": "code",
   "execution_count": 8,
   "id": "866f6d40",
   "metadata": {},
   "outputs": [
    {
     "name": "stdout",
     "output_type": "stream",
     "text": [
      "[12, 34, 466, 23233]\n",
      "Sorted list: [12, 34, 466, 23233]\n",
      "34\n"
     ]
    }
   ],
   "source": [
    "# 9. Write a Python program to find the second smallest number in a list.\n",
    "\n",
    "num=int(input(\"Enter how many numbers do you want in a list:\"))\n",
    "l=[]\n",
    "\n",
    "for i in range(num):\n",
    "    num=int(input(\"Enter number:\"))\n",
    "    l.append(num)\n",
    "\n",
    "print(l)\n",
    "\n",
    "l.sort()\n",
    "print(f\"Sorted list: {l}\")\n",
    "\n",
    "numbers=list(l)\n",
    "\n",
    "if len(numbers)<2:\n",
    "    print(\"no second smallest\")\n",
    "else:\n",
    "    smallest=min(numbers)\n",
    "    numbers.remove(smallest)\n",
    "    second_smallest=min(numbers)\n",
    "    print(second_smallest)"
   ]
  },
  {
   "cell_type": "code",
   "execution_count": 11,
   "id": "4a39d6a8",
   "metadata": {},
   "outputs": [
    {
     "name": "stdout",
     "output_type": "stream",
     "text": [
      "[1, 2, 3, 4, 5, 6]\n"
     ]
    }
   ],
   "source": [
    "#10.Write a Python program to get unique values from a list.\n",
    "\n",
    "l=[1,2,3,1,2,4,5,6,6]\n",
    "unique_list=[]\n",
    "\n",
    "for i in l:\n",
    "    if i not in unique_list:\n",
    "        unique_list.append(i)\n",
    "\n",
    "print(unique_list)\n",
    "\n"
   ]
  },
  {
   "cell_type": "code",
   "execution_count": 8,
   "id": "b5593288",
   "metadata": {},
   "outputs": [
    {
     "name": "stdout",
     "output_type": "stream",
     "text": [
      "[1, 3, 5, 7, 9, 2, 4, 6, 8, 10]\n"
     ]
    }
   ],
   "source": [
    "#11.Write a Python program to unzip a list of tuples into individual lists.\n",
    "\n",
    "l=[(1,2),(3,4),(5,6),(7,8),(9,10)]\n",
    "odd,even=zip(*l)\n",
    "odd=list(odd)\n",
    "even=list(even)\n",
    "print(odd+even)"
   ]
  },
  {
   "cell_type": "code",
   "execution_count": 24,
   "id": "9aeec2cd",
   "metadata": {},
   "outputs": [
    {
     "name": "stdout",
     "output_type": "stream",
     "text": [
      "{1: 2, 'a': 4, 5: 6, 'c': 8}\n"
     ]
    }
   ],
   "source": [
    "#12.Write a Python program to convert a list of tuples into a dictionary\n",
    "\n",
    "l=[(1,2),('a',4),(5,6),('c',8)]\n",
    "d={}\n",
    "for key,value in l:\n",
    "    d[key]=value\n",
    "print(d)"
   ]
  },
  {
   "cell_type": "code",
   "execution_count": 17,
   "id": "3ba21306",
   "metadata": {},
   "outputs": [
    {
     "name": "stdout",
     "output_type": "stream",
     "text": [
      "[('i', 1), ('a', 2), ('b', 2), ('c', 2), ('e', 3), ('h', 4), ('d', 5), ('g', 8), ('f', 9)]\n"
     ]
    }
   ],
   "source": [
    "#13.Write a Python program to sort a dictionary (ascending /descending) by value.\n",
    "\n",
    "dict={'a':2,'b':2,'c':2,'d':5,'e':3,'f':9,'g':8,'h':4,'i':1}\n",
    "num=int(input(\"Enter your choice [0/1]:\"))\n",
    "if num==0:\n",
    "    print(sorted(dict.items(),key=lambda item: item[1]))\n",
    "elif num==1:\n",
    "    print(sorted(dict.items(),key=lambda item: item[1],reverse=True))\n",
    "else:\n",
    "    print(\"Invalid num\")\n"
   ]
  },
  {
   "cell_type": "code",
   "execution_count": 27,
   "id": "e0875290",
   "metadata": {},
   "outputs": [
    {
     "name": "stdout",
     "output_type": "stream",
     "text": [
      "c 6\n",
      "d 4\n",
      "a 2\n"
     ]
    }
   ],
   "source": [
    "#14.Write a Python program to find the highest 3 values in a dictionary.\n",
    "\n",
    "dict={\"a\":2,\"b\":1,\"c\":6,\"d\":4}\n",
    "sorted_item=sorted(dict.items(),key=lambda item: item[1],reverse=True)\n",
    "for k,v in sorted_item[:3]:\n",
    "    print(k,v)"
   ]
  },
  {
   "cell_type": "code",
   "execution_count": 5,
   "id": "d9f2ff30",
   "metadata": {},
   "outputs": [
    {
     "name": "stdout",
     "output_type": "stream",
     "text": [
      "Fibonacci Series:\n",
      "0 1 1 2 3 5 8 13 "
     ]
    }
   ],
   "source": [
    "#15.Given a number n, write a python program to make and print the list of Fibonacci\n",
    "#series up to n. Input : n=7 Hint : first 7 numbers in the series Expected output :\n",
    "#First few Fibonacci numbers are 0, 1, 1, 2, 3, 5, 8, 13\n",
    "\n",
    "\n",
    "n=7\n",
    "a=0\n",
    "b=1\n",
    "\n",
    "print(\"Fibonacci Series:\")\n",
    "for i in range(n+1):\n",
    "    print(a,end=\" \")\n",
    "    a,b=b,a+b\n"
   ]
  },
  {
   "cell_type": "code",
   "execution_count": 36,
   "id": "2a7e8427",
   "metadata": {},
   "outputs": [
    {
     "name": "stdout",
     "output_type": "stream",
     "text": [
      "1:4\n",
      "5:2\n",
      "3:3\n",
      "2:4\n",
      "4:5\n"
     ]
    }
   ],
   "source": [
    "#16.Counting the frequencies in a list using a dictionary in Python. Input : [1, 1, 1, 5, 5, 3, 1, 3, 3, 1,4, 4, 4, 2, 2, 2, 2]\n",
    "#Expected output : 1 : 5 , 2 : 4 , 3 : 3 , 4 : 3 , 5 : 2\n",
    "\n",
    "l=[1,1,1,5,5,3,1,2,2,2,4,3,4,4,2,3,4,4]\n",
    "frequency={}\n",
    "\n",
    "for item in l:\n",
    "    if item in frequency:\n",
    "        frequency[item]+=1\n",
    "    else:\n",
    "        frequency[item]=1\n",
    "\n",
    "for key in frequency:\n",
    "    print(f\"{key}:{frequency[key]}\")"
   ]
  },
  {
   "cell_type": "code",
   "execution_count": 23,
   "id": "64696cc5",
   "metadata": {},
   "outputs": [
    {
     "name": "stdout",
     "output_type": "stream",
     "text": [
      "2.7083333333333335\n",
      "2.6666666666666665\n"
     ]
    }
   ],
   "source": [
    "#17.Write a python program using function to find the sum of odd series and even series\n",
    "#Odd series: 12/ 1! +32/ 3! + 52/ 5!+……n\n",
    "#Even series: 22/ 2! + 42/ 4! + 62/\n",
    "\n",
    "def fact(n):\n",
    "    a=1\n",
    "    for i in range(1,n+1):\n",
    "        a*=i\n",
    "    return a\n",
    "\n",
    "def odd_series(n):\n",
    "    total=0\n",
    "    for i in range(1,n+1,2):\n",
    "        total+=(i**2)/fact(i)\n",
    "    return total\n",
    "\n",
    "def even_series(n):\n",
    "    total=0\n",
    "    for i in range(2,n+1,2):\n",
    "        total+=(i**2)/fact(i)\n",
    "    return total\n",
    "\n",
    "n=int(input(\"Enter the number :\"))\n",
    "print(odd_series(n))\n",
    "print(even_series(n))\n"
   ]
  },
  {
   "cell_type": "code",
   "execution_count": 6,
   "id": "f79ae8d8",
   "metadata": {},
   "outputs": [
    {
     "data": {
      "text/plain": [
       "120"
      ]
     },
     "execution_count": 6,
     "metadata": {},
     "output_type": "execute_result"
    }
   ],
   "source": [
    "#18. Python Program to Find Factorial of Number Using Recursion\n",
    "\n",
    "def fact(num):\n",
    "    if num==0 or num==1:\n",
    "        return 1\n",
    "    return num*fact(num-1)\n",
    "\n",
    "fact(5)"
   ]
  },
  {
   "cell_type": "code",
   "execution_count": 9,
   "id": "e08c0e11",
   "metadata": {},
   "outputs": [
    {
     "name": "stdout",
     "output_type": "stream",
     "text": [
      "[1, 2, 3, 4, 5, 6, 7, 8, 9]\n"
     ]
    }
   ],
   "source": [
    "#19.Write a Python function that takes a list and returns a new list with unique elements of the first list.\n",
    "\n",
    "def unique(lst):\n",
    "    new_list=[]\n",
    "    for item in lst:\n",
    "        if item not in new_list:\n",
    "            new_list.append(item)\n",
    "    return new_list\n",
    "\n",
    "l1=[1,2,3,4,5,1,3,6,7,2,8,4,9]\n",
    "print(unique(l1))"
   ]
  },
  {
   "cell_type": "code",
   "execution_count": 8,
   "id": "41a391d6",
   "metadata": {},
   "outputs": [
    {
     "name": "stdout",
     "output_type": "stream",
     "text": [
      "Generated Password: arpOa!fv\n"
     ]
    }
   ],
   "source": [
    "# 20.Mini project :\n",
    "# Problem Statement : Password Generator\n",
    "# Make a program to generate a strong password using the input given by the user.\n",
    "# To generate a password, randomly take some words from the user input and then include numbers, special characters and capital letters to generate the password.\n",
    "# Also, keep a check that password length is more than 8 characters.\n",
    "# Note: Include Exception handling wherever required.\n",
    "# Also, make a ‘User’ class and store the details like user id, name and password of each user as a tuple.\n",
    "\n",
    "\n",
    "import random\n",
    "import string\n",
    "\n",
    "def generate_password(user_input):\n",
    "    try:\n",
    "        if not user_input.strip():\n",
    "            raise ValueError(\"Input cannot be empty.\")\n",
    "        \n",
    "        random_chars=''.join(random.choices(string.ascii_letters+string.ascii_lowercase+string.ascii_uppercase+string.digits+string.punctuation))\n",
    "        password=user_input+random_chars\n",
    "        while len(password)<8:\n",
    "            password+=random.choice(string.ascii_letters+string.ascii_lowercase+string.ascii_uppercase+string.digits+string.punctuation)\n",
    "\n",
    "        password_list=list(password)\n",
    "        random.shuffle(password_list)\n",
    "        return ''.join(password_list)\n",
    "    except ValueError as ve:\n",
    "        return ve\n",
    "    except Exception as e:\n",
    "        return e\n",
    "    \n",
    "user_input=(input(\"Enter a word or letter for password:\"))\n",
    "password=generate_password(user_input)\n",
    "print(\"Generated Password:\",password)"
   ]
  }
 ],
 "metadata": {
  "kernelspec": {
   "display_name": "Python 3",
   "language": "python",
   "name": "python3"
  },
  "language_info": {
   "codemirror_mode": {
    "name": "ipython",
    "version": 3
   },
   "file_extension": ".py",
   "mimetype": "text/x-python",
   "name": "python",
   "nbconvert_exporter": "python",
   "pygments_lexer": "ipython3",
   "version": "3.10.16"
  }
 },
 "nbformat": 4,
 "nbformat_minor": 5
}
