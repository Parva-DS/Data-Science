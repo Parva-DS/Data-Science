{
 "cells": [
  {
   "cell_type": "markdown",
   "id": "47b3f6a6",
   "metadata": {},
   "source": [
    "# Assessment\n"
   ]
  },
  {
   "cell_type": "code",
   "execution_count": null,
   "id": "76ef7405",
   "metadata": {},
   "outputs": [],
   "source": [
    "#1.\n",
    "\n",
    "# Descriptive Statistics - Descriptive statistics summarize and describe the main features of a dataset.\n",
    "# Inferential Statistics - Inferential statistics draw conclusions and make predictions about a population based on a sample of data.\n",
    "\n",
    "# Purpose:-\n",
    "# - To organize, simplify, and present data in a meaningful way.\n",
    "# - To generalize, test hypotheses, or estimate parameters about a population.\n",
    "\n",
    "# Used data:-\n",
    "# - Uses entire dataset or sample itself.\n",
    "# - Uses sample data to make inferences about the population.\n",
    "\n",
    "# Techniques Used:-\n",
    "# - Mean, median, mode, charts, graphs, standard deviation.\n",
    "# - Hypothesis testing, confidence intervals, regression, ANOVA.\n"
   ]
  },
  {
   "cell_type": "code",
   "execution_count": 2,
   "id": "75ef3cf2",
   "metadata": {},
   "outputs": [],
   "source": [
    "#2.\n",
    "\n",
    "# Discrete Distribution - Deals with countable outcomes.\n",
    "# Continuous Distribution - Deals with measurable, infinite outcomes within a range.\n",
    "\n",
    "# Values:-\n",
    "# - Takes only specific, distinct values (e.g., 0, 1, 2…).\n",
    "# - Can take any real value within a given range.\n",
    "\n",
    "# Examples:-\n",
    "# - Number of students, coin tosses, dice outcomes.\n",
    "# - Height, weight, time, temperature.\n",
    "\n",
    "# Common Distributions:-\n",
    "# - Binomial, Poisson, Geometric.\n",
    "# - Normal, Exponential, Uniform."
   ]
  },
  {
   "cell_type": "code",
   "execution_count": null,
   "id": "13f853a7",
   "metadata": {},
   "outputs": [],
   "source": [
    "#3.\n",
    "\n",
    "# Variance:-\n",
    "#\t•\tMeasures how far each data point lies from the mean.\n",
    "#\t•\tShows spread or dispersion in the dataset.\n",
    "\n",
    "# Standard Deviation:-\n",
    "#\t•\tSquare root of variance.\n",
    "#\t•\tRepresents the average distance from the mean in the same units as the data.\n",
    "\n",
    "# Importance:\n",
    "#\t1.\tHelps understand the consistency or volatility of data.\n",
    "#\t2.\tUsed in comparing datasets with similar means.\n",
    "#\t3.\tIndicates risk in finance and reliability in experiments.\n",
    "#\t4.\tUsed in machine learning, quality control, and statistical testing."
   ]
  },
  {
   "cell_type": "code",
   "execution_count": null,
   "id": "9de0ca50",
   "metadata": {},
   "outputs": [],
   "source": [
    "#4.\n",
    "\n",
    "# a. Skewness:-\n",
    "#\t•\tMeasures the asymmetry of the data distribution.\n",
    "#\t•\tPositive Skew: Tail extends to the right (mean > median).\n",
    "#\t•\tNegative Skew: Tail extends to the left (mean < median).\n",
    "\n",
    "# b. Kurtosis:-\n",
    "#\t•\tMeasures the peakedness or flatness of the data distribution.\n",
    "#\t•\tHigh kurtosis (>3): Heavy tails and outliers (leptokurtic).\n",
    "#\t•\tLow kurtosis (<3): Light tails, flat shape (platykurtic).\n",
    "#\t•\tNormal kurtosis = 3: Mesokurtic (normal shape).\n",
    "\n",
    "# c. Outlier:-\n",
    "#\t•\tA data point that is significantly different from other observations.\n",
    "#\t•\tCan distort mean and standard deviation.\n",
    "#\t•\tOften detected using Z-scores, IQR method, or boxplots."
   ]
  },
  {
   "cell_type": "markdown",
   "id": "8d22d7ce",
   "metadata": {},
   "source": [
    "## Practical"
   ]
  },
  {
   "cell_type": "code",
   "execution_count": 4,
   "id": "a2e12b40",
   "metadata": {},
   "outputs": [
    {
     "name": "stdout",
     "output_type": "stream",
     "text": [
      "a. P(Red) = 0.42\n",
      "b. P(Red or Blue) = 0.75\n",
      "c. P(Not Green) = 0.75\n"
     ]
    }
   ],
   "source": [
    "#1.\n",
    "\n",
    "red = 5\n",
    "blue = 4\n",
    "green = 3\n",
    "total = red + blue + green\n",
    "\n",
    "# a. Probability of getting a red ball\n",
    "p_red = red / total\n",
    "\n",
    "# b. Probability of getting a red or blue ball\n",
    "p_red_or_blue = (red + blue) / total\n",
    "\n",
    "# c. Probability of not getting a green ball\n",
    "p_not_green = 1 - (green / total)\n",
    "\n",
    "print(f\"a. P(Red) = {p_red:.2f}\")\n",
    "print(f\"b. P(Red or Blue) = {p_red_or_blue:.2f}\")\n",
    "print(f\"c. P(Not Green) = {p_not_green:.2f}\")"
   ]
  },
  {
   "cell_type": "code",
   "execution_count": 6,
   "id": "c1ba146a",
   "metadata": {},
   "outputs": [
    {
     "name": "stdout",
     "output_type": "stream",
     "text": [
      "a. Dot Product = 6\n",
      "b. The vectors are Not Orthogonal\n"
     ]
    }
   ],
   "source": [
    "#2.\n",
    "\n",
    "import numpy as np\n",
    "\n",
    "A = np.array([2, 3, 1])\n",
    "B = np.array([1, 0, 4])\n",
    "\n",
    "# a. Dot product\n",
    "dot_product = np.dot(A, B)\n",
    "\n",
    "# b. Orthogonality check\n",
    "if dot_product == 0:\n",
    "    result = \"Orthogonal\"\n",
    "else:\n",
    "    result = \"Not Orthogonal\"\n",
    "\n",
    "print(f\"a. Dot Product = {dot_product}\")\n",
    "print(f\"b. The vectors are {result}\")"
   ]
  },
  {
   "cell_type": "code",
   "execution_count": 9,
   "id": "d06be0ef",
   "metadata": {},
   "outputs": [
    {
     "name": "stdout",
     "output_type": "stream",
     "text": [
      "Mean = 53.52\n",
      "Median = 50.0\n",
      "Mode = 69\n",
      "Standard Deviation = 24.06\n",
      "Data Distribution: Positively Skewed (Right skewed)\n"
     ]
    }
   ],
   "source": [
    "#3.\n",
    "\n",
    "import numpy as np\n",
    "from scipy import stats\n",
    "\n",
    "marks = np.array([69,35,26,55,28,99,69,50,31,32,23,28,77,80,75,45,69,61,27,48,97])\n",
    "\n",
    "# a. Mean, Median, Mode\n",
    "mean_marks = np.mean(marks)\n",
    "median_marks = np.median(marks)\n",
    "mode_marks = stats.mode(marks)[0]\n",
    "\n",
    "# b. Standard deviation\n",
    "std_dev = np.std(marks, ddof=1)\n",
    "\n",
    "# c. Symmetry check\n",
    "if mean_marks > median_marks:\n",
    "    symmetry = \"Positively Skewed (Right skewed)\"\n",
    "elif mean_marks < median_marks:\n",
    "    symmetry = \"Negatively Skewed (Left skewed)\"\n",
    "else:\n",
    "    symmetry = \"Perfectly Symmetrical\"\n",
    "\n",
    "print(f\"Mean = {mean_marks:.2f}\")\n",
    "print(f\"Median = {median_marks}\")\n",
    "print(f\"Mode = {mode_marks}\")\n",
    "print(f\"Standard Deviation = {std_dev:.2f}\")\n",
    "print(f\"Data Distribution: {symmetry}\")"
   ]
  },
  {
   "cell_type": "code",
   "execution_count": 22,
   "id": "7e3ed877",
   "metadata": {},
   "outputs": [
    {
     "name": "stdout",
     "output_type": "stream",
     "text": [
      "       Height(CM)  Weight(KG)   10th Mark   12th Mark\n",
      "count  235.000000  235.000000  235.000000  235.000000\n",
      "mean   157.402128   60.803830   76.848511   68.775872\n",
      "std     21.510805   14.895844   13.047560   11.018192\n",
      "min      4.500000   20.000000    7.400000   45.000000\n",
      "25%    152.000000   50.000000   70.000000   60.000000\n",
      "50%    160.000000   60.000000   80.000000   69.000000\n",
      "75%    170.000000   70.000000   86.250000   76.000000\n",
      "max    192.000000  106.000000   98.000000   94.000000\n",
      "\n",
      "Mode:\n",
      "   Height(CM)  Weight(KG)  10th Mark  12th Mark\n",
      "0       160.0        60.0       60.0       60.0\n",
      "1         NaN         NaN       75.0       70.0\n",
      "2         NaN         NaN       80.0        NaN\n",
      "\n",
      "Skewness:\n",
      "Height(CM)   -2.579433\n",
      "Weight(KG)    0.248998\n",
      "10th Mark    -1.150167\n",
      "12th Mark     0.069232\n",
      "dtype: float64\n",
      "\n",
      "Kurtosis:\n",
      "Height(CM)    12.004228\n",
      "Weight(KG)    -0.350902\n",
      "10th Mark      2.641213\n",
      "12th Mark     -0.639600\n",
      "dtype: float64\n",
      "\n",
      "Interpretation:\n",
      "Height(CM) → Negatively Skewed (Left tail)\n",
      "Weight(KG) → Positively Skewed (Right tail)\n",
      "10th Mark → Negatively Skewed (Left tail)\n",
      "12th Mark → Positively Skewed (Right tail)\n"
     ]
    }
   ],
   "source": [
    "#4.\n",
    "\n",
    "import pandas as pd\n",
    "\n",
    "url = \"https://raw.githubusercontent.com/Divyraj-Tops/Excel/main/Data/Student%20Attitude%20and%20Behavior.csv\"\n",
    "df = pd.read_csv(url)\n",
    "\n",
    "cols = ['Height(CM)', 'Weight(KG)', '10th Mark', '12th Mark']\n",
    "data = df[cols]\n",
    "\n",
    "# Mean, Median, Quartiles\n",
    "print(data.describe())\n",
    "\n",
    "# Mode\n",
    "print(\"\\nMode:\")\n",
    "print(data.mode())\n",
    "\n",
    "# Skewness & Kurtosis\n",
    "print(\"\\nSkewness:\")\n",
    "print(data.skew())\n",
    "print(\"\\nKurtosis:\")\n",
    "print(data.kurt())\n",
    "\n",
    "# Interpretation\n",
    "print(\"\\nInterpretation:\")\n",
    "for col in cols:\n",
    "    if data.skew()[col] > 0:\n",
    "        print(f\"{col} → Positively Skewed (Right tail)\")\n",
    "    elif data.skew()[col] < 0:\n",
    "        print(f\"{col} → Negatively Skewed (Left tail)\")\n",
    "    else:\n",
    "        print(f\"{col} → Approximately Symmetrical\")"
   ]
  },
  {
   "cell_type": "code",
   "execution_count": 16,
   "id": "7582a3f1",
   "metadata": {},
   "outputs": [
    {
     "name": "stdout",
     "output_type": "stream",
     "text": [
      "Covariance = 97.53\n",
      "Correlation = 1.00\n",
      "The relationship is Positive — when A increases, B also increases.\n"
     ]
    }
   ],
   "source": [
    "#5.\n",
    "\n",
    "import numpy as np\n",
    "\n",
    "company_A = np.array([45, 47, 48, 50, 52, 53, 55, 56, 58, 60, 62, 64, 65, 67, 69, 70, 72, 74, 76, 77])\n",
    "company_B = np.array([52, 54, 55, 57, 59, 60, 61, 62, 64, 66, 67, 69, 71, 73, 74, 76, 78, 80, 82, 83])\n",
    "\n",
    "# Covariance\n",
    "covariance = np.cov(company_A, company_B)[0][1]\n",
    "\n",
    "# Correlation\n",
    "correlation = np.corrcoef(company_A, company_B)[0][1]\n",
    "\n",
    "print(f\"Covariance = {covariance:.2f}\")\n",
    "print(f\"Correlation = {correlation:.2f}\")\n",
    "\n",
    "# Interpretation\n",
    "if correlation > 0:\n",
    "    print(\"The relationship is Positive — when A increases, B also increases.\")\n",
    "elif correlation < 0:\n",
    "    print(\"The relationship is Negative — when A increases, B decreases.\")\n",
    "else:\n",
    "    print(\"No linear relationship between A and B.\")"
   ]
  }
 ],
 "metadata": {
  "kernelspec": {
   "display_name": "jupyter_env",
   "language": "python",
   "name": "python3"
  },
  "language_info": {
   "codemirror_mode": {
    "name": "ipython",
    "version": 3
   },
   "file_extension": ".py",
   "mimetype": "text/x-python",
   "name": "python",
   "nbconvert_exporter": "python",
   "pygments_lexer": "ipython3",
   "version": "3.10.16"
  }
 },
 "nbformat": 4,
 "nbformat_minor": 5
}
